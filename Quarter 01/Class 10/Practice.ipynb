{
  "cells": [
    {
      "cell_type": "code",
      "execution_count": 4,
      "metadata": {
        "colab": {
          "base_uri": "https://localhost:8080/"
        },
        "id": "O4SoKSjXF3zp",
        "outputId": "9461f392-66c1-4aa8-8d6d-1afedab557b3"
      },
      "outputs": [
        {
          "name": "stdout",
          "output_type": "stream",
          "text": [
            "  % Total    % Received % Xferd  Average Speed   Time    Time     Time  Current\n",
            "                                 Dload  Upload   Total   Spent    Left  Speed\n",
            "\r  0     0    0     0    0     0      0      0 --:--:-- --:--:-- --:--:--     0\r100  3944  100  3944    0     0  37453      0 --:--:-- --:--:-- --:--:-- 37561\n"
          ]
        }
      ],
      "source": [
        "!curl -o helper_functions.py https://raw.githubusercontent.com/panaversity/learn-cloud-native-modern-ai-python/main/07_natural_language_programming/02_ai_python_for_beginners/course1_basics/Lesson_9/helper_functions.py"
      ]
    },
    {
      "cell_type": "code",
      "execution_count": 6,
      "metadata": {
        "id": "rGeFWPFTGic2"
      },
      "outputs": [],
      "source": [
        "from helper_functions import *"
      ]
    },
    {
      "cell_type": "code",
      "execution_count": 7,
      "metadata": {
        "colab": {
          "base_uri": "https://localhost:8080/",
          "height": 36
        },
        "id": "lkwvXksrGr2v",
        "outputId": "9a8601e7-0d06-4d0c-eeb2-bb27e8f71aec"
      },
      "outputs": [
        {
          "data": {
            "application/vnd.google.colaboratory.intrinsic+json": {
              "type": "string"
            },
            "text/plain": [
              "'/content'"
            ]
          },
          "execution_count": 7,
          "metadata": {},
          "output_type": "execute_result"
        }
      ],
      "source": [
        "pwd\n",
        "#linux command to check the running directory"
      ]
    },
    {
      "cell_type": "code",
      "execution_count": 10,
      "metadata": {
        "colab": {
          "base_uri": "https://localhost:8080/",
          "height": 90
        },
        "id": "eRZoJ6urMFOa",
        "outputId": "dc9c69c8-fd1b-4690-feb8-2e82eb5bb8a1"
      },
      "outputs": [
        {
          "name": "stdout",
          "output_type": "stream",
          "text": [
            "The United States does not have a Prime Minister. The head of government in the US is the **President**. \n",
            "\n",
            "The current President of the United States is **Joe Biden**. \n",
            "\n"
          ]
        }
      ],
      "source": [
        "print_llm_response(\"Who is the prime minister of US\")"
      ]
    },
    {
      "cell_type": "code",
      "execution_count": 13,
      "metadata": {
        "colab": {
          "base_uri": "https://localhost:8080/"
        },
        "id": "wnjrzIbTOP2s",
        "outputId": "430207a6-5ecf-400e-ce7a-01d17b1bc6f9"
      },
      "outputs": [
        {
          "data": {
            "text/plain": [
              "3.0"
            ]
          },
          "execution_count": 13,
          "metadata": {},
          "output_type": "execute_result"
        }
      ],
      "source": [
        "21/7"
      ]
    },
    {
      "cell_type": "code",
      "execution_count": 14,
      "metadata": {
        "colab": {
          "base_uri": "https://localhost:8080/"
        },
        "id": "zbYDrsIPOnk-",
        "outputId": "9bf64f40-54e3-479b-b5c3-14725c443100"
      },
      "outputs": [
        {
          "name": "stdout",
          "output_type": "stream",
          "text": [
            "hello world\n"
          ]
        }
      ],
      "source": [
        "print(\"hello world\")"
      ]
    },
    {
      "cell_type": "code",
      "execution_count": 26,
      "metadata": {
        "id": "heMHVCx9WN3t"
      },
      "outputs": [],
      "source": [
        "def greet():\n",
        "  print(\"hello world\")\n",
        "  greet()"
      ]
    },
    {
      "cell_type": "code",
      "execution_count": 23,
      "metadata": {
        "colab": {
          "base_uri": "https://localhost:8080/"
        },
        "id": "SgkTU6wSX7gj",
        "outputId": "e23b101b-7485-4bd6-9840-499e8fb503f5"
      },
      "outputs": [
        {
          "name": "stdout",
          "output_type": "stream",
          "text": [
            "hello world\n"
          ]
        }
      ],
      "source": [
        "greet()"
      ]
    },
    {
      "cell_type": "code",
      "execution_count": 25,
      "metadata": {
        "colab": {
          "base_uri": "https://localhost:8080/"
        },
        "id": "DQsz9-8oZFBF",
        "outputId": "432aa14e-e6a6-4e47-c6ac-28fa0edfa008"
      },
      "outputs": [
        {
          "name": "stdout",
          "output_type": "stream",
          "text": [
            "hello world\n"
          ]
        }
      ],
      "source": [
        "greet()"
      ]
    },
    {
      "cell_type": "markdown",
      "metadata": {
        "id": "-XAn9dh6ZsPR"
      },
      "source": []
    },
    {
      "cell_type": "code",
      "execution_count": 43,
      "metadata": {
        "id": "I31vWsk6ZHHJ"
      },
      "outputs": [],
      "source": [
        "def half_fry():\n",
        "  return (\"Egg \" + \"Oil \"+  \"Salt\")"
      ]
    },
    {
      "cell_type": "code",
      "execution_count": 47,
      "metadata": {
        "colab": {
          "base_uri": "https://localhost:8080/"
        },
        "id": "WpTCehptZrvQ",
        "outputId": "adf22192-d7c0-4803-f163-c84364f1174b"
      },
      "outputs": [
        {
          "name": "stdout",
          "output_type": "stream",
          "text": [
            "Egg Oil Salt\n"
          ]
        }
      ],
      "source": [
        "print (half_fry())"
      ]
    },
    {
      "cell_type": "code",
      "execution_count": 48,
      "metadata": {
        "id": "SM6gwja2cJrH"
      },
      "outputs": [],
      "source": [
        "recipe_for_umer= half_fry()"
      ]
    },
    {
      "cell_type": "code",
      "execution_count": 46,
      "metadata": {
        "colab": {
          "base_uri": "https://localhost:8080/"
        },
        "id": "hGgnff7Ed5Wf",
        "outputId": "a7ef8cb0-0f8b-450c-d17e-ded57c8ce755"
      },
      "outputs": [
        {
          "name": "stdout",
          "output_type": "stream",
          "text": [
            "Egg Oil Salt\n"
          ]
        }
      ],
      "source": [
        "print (recipe_for_umer)"
      ]
    },
    {
      "cell_type": "code",
      "execution_count": 85,
      "metadata": {
        "id": "47r_gdb9fuOB"
      },
      "outputs": [],
      "source": [
        "def full_fry(salt_qty: str = \"2\"):\n",
        "  return(\"Egg \" + \"Oil\"  + salt_qty)"
      ]
    },
    {
      "cell_type": "code",
      "execution_count": 86,
      "metadata": {
        "id": "dTgZXRykh8vA"
      },
      "outputs": [],
      "source": [
        "recipe_for_umer= full_fry(\"1\")"
      ]
    },
    {
      "cell_type": "code",
      "execution_count": 87,
      "metadata": {
        "colab": {
          "base_uri": "https://localhost:8080/"
        },
        "id": "QVBtfs28iUD3",
        "outputId": "272be59d-6577-4575-baed-3bb13351bb8d"
      },
      "outputs": [
        {
          "name": "stdout",
          "output_type": "stream",
          "text": [
            "Egg Oil1\n"
          ]
        }
      ],
      "source": [
        "print(recipe_for_umer)"
      ]
    }
  ],
  "metadata": {
    "colab": {
      "provenance": []
    },
    "kernelspec": {
      "display_name": "Python 3",
      "name": "python3"
    },
    "language_info": {
      "name": "python"
    }
  },
  "nbformat": 4,
  "nbformat_minor": 0
}
